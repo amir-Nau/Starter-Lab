{
 "cells": [
  {
   "cell_type": "markdown",
   "metadata": {},
   "source": [
    "# This problem was asked by Twitter.\n",
    "\n",
    "Implement an autocomplete system. That is, given a query string s and a set of all possible query strings, return all strings in the set that have s as a prefix.\n",
    "\n",
    "For example, given the query string de and the set of strings [dog, deer, deal], return [deer, deal]."
   ]
  },
  {
   "cell_type": "code",
   "execution_count": 40,
   "metadata": {},
   "outputs": [
    {
     "name": "stdout",
     "output_type": "stream",
     "text": [
      "\n"
     ]
    }
   ],
   "source": []
  },
  {
   "cell_type": "code",
   "execution_count": 35,
   "metadata": {
    "scrolled": true
   },
   "outputs": [
    {
     "name": "stdout",
     "output_type": "stream",
     "text": [
      "['deal', 'deer']\n"
     ]
    }
   ],
   "source": [
    "#Blove there is the method2\n",
    "\n",
    "from bisect import bisect_left as bisect\n",
    "import random\n",
    "\n",
    "def coding_problem_11(strings, prefix):\n",
    "    \"\"\"\n",
    "    Implement an autocomplete system. That is, given a query string s and a dictionary of all possible query strings,\n",
    "    return all strings in the dictionary that have s as a prefix. Hint: Try pre-processing the dictionary into a more\n",
    "    efficient data structure to speed up queries.\n",
    "    Example:\n",
    "    >>> words = ['able', 'abode', 'about', 'above', 'abuse', 'syzygy']\n",
    "    >>> coding_problem_11(words, 'abo')\n",
    "    ['abode', 'about', 'above']\n",
    "    Note: I have been thinking of lots of potential data structures, like hierarchical dictionaries, or hashing.\n",
    "    Unless otherwise specified, I think space/computation trade-off is not worth doing more than I do below.\n",
    "    The necessity of using more sophisticated solutions depends on the problem to be solved, overkill here.\n",
    "    \"\"\"\n",
    "    di\n",
    "    ctionary = [s.lower() for s in sorted(strings)]\n",
    "    next_prefix = prefix + 'a' if prefix[-1] == 'z' else prefix[:-1] + chr(ord(prefix[-1]) + 1)\n",
    "    return dictionary[bisect(dictionary, prefix):bisect(dictionary, next_prefix)]\n",
    "arr = ['dog', 'deer', 'deal']\n",
    "\n",
    "s = \"de\"\n",
    "print(coding_problem_11(arr,s))\n"
   ]
  },
  {
   "cell_type": "code",
   "execution_count": 50,
   "metadata": {},
   "outputs": [
    {
     "name": "stdout",
     "output_type": "stream",
     "text": [
      "4\n"
     ]
    }
   ],
   "source": [
    "def cons(a, b):\n",
    "    def pair(f):\n",
    "        return f(a, b)\n",
    "    return pair\n",
    "\n",
    "\n",
    "def car(pair):\n",
    "    return pair(lambda a, b: a)\n",
    "\n",
    "\n",
    "\n",
    "def cdr(pair):\n",
    "    return pair(lambda a, b: b)\n",
    "\n",
    "print(car(cons(4,5)))"
   ]
  },
  {
   "cell_type": "code",
   "execution_count": 55,
   "metadata": {},
   "outputs": [
    {
     "name": "stdout",
     "output_type": "stream",
     "text": [
      "{'foo'}\n"
     ]
    }
   ],
   "source": [
    "WORDS = ['foo', 'bar']\n",
    "def autocomplete(s):\n",
    "    results = set()\n",
    "    for word in WORDS:\n",
    "        if word.startswith(s):\n",
    "            results.add(word)\n",
    "    return results\n",
    "s = 'f'\n",
    "print(autocomplete(s))"
   ]
  },
  {
   "cell_type": "code",
   "execution_count": 57,
   "metadata": {},
   "outputs": [
    {
     "name": "stdout",
     "output_type": "stream",
     "text": [
      "1 2 3\n"
     ]
    }
   ],
   "source": [
    "something = input().split()"
   ]
  },
  {
   "cell_type": "code",
   "execution_count": null,
   "metadata": {},
   "outputs": [],
   "source": []
  }
 ],
 "metadata": {
  "kernelspec": {
   "display_name": "Python 3",
   "language": "python",
   "name": "python3"
  },
  "language_info": {
   "codemirror_mode": {
    "name": "ipython",
    "version": 3
   },
   "file_extension": ".py",
   "mimetype": "text/x-python",
   "name": "python",
   "nbconvert_exporter": "python",
   "pygments_lexer": "ipython3",
   "version": "3.7.4"
  }
 },
 "nbformat": 4,
 "nbformat_minor": 2
}
