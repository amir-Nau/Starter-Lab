{
 "cells": [
  {
   "cell_type": "code",
   "execution_count": 4,
   "metadata": {},
   "outputs": [
    {
     "name": "stdout",
     "output_type": "stream",
     "text": [
      "\n",
      " The values of a: 2 3\n",
      "\n",
      " The values of a: 3 5\n",
      "\n",
      " The values of a: 5 8\n",
      "\n",
      " The values of a: 8 13\n",
      "\n",
      " The values of a: 13 21\n",
      "\n",
      " The values of a: 21 34\n",
      "\n",
      " The values of a: 34 55\n",
      "\n",
      " The values of a: 55 89\n",
      "\n",
      " The values of a: 89 144\n",
      "89\n"
     ]
    }
   ],
   "source": [
    "def staircase(n):\n",
    "    a, b = 1, 2\n",
    "    for _ in range(n - 1):\n",
    "        a, b = b, a + b\n",
    "        print(\"\\n The values of a:\", a, b)\n",
    "    return a\n",
    "print(staircase(10))"
   ]
  },
  {
   "cell_type": "code",
   "execution_count": null,
   "metadata": {},
   "outputs": [],
   "source": []
  }
 ],
 "metadata": {
  "kernelspec": {
   "display_name": "Python 3",
   "language": "python",
   "name": "python3"
  },
  "language_info": {
   "codemirror_mode": {
    "name": "ipython",
    "version": 3
   },
   "file_extension": ".py",
   "mimetype": "text/x-python",
   "name": "python",
   "nbconvert_exporter": "python",
   "pygments_lexer": "ipython3",
   "version": "3.7.4"
  }
 },
 "nbformat": 4,
 "nbformat_minor": 2
}
