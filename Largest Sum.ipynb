{
 "cells": [
  {
   "cell_type": "markdown",
   "metadata": {},
   "source": [
    "# This problem was asked by Airbnb.\n",
    "\n",
    "### Given a list of integers, write a function that returns the largest sum of non-adjacent numbers. Numbers can be 0 or negative."
   ]
  },
  {
   "cell_type": "code",
   "execution_count": 11,
   "metadata": {},
   "outputs": [
    {
     "name": "stdout",
     "output_type": "stream",
     "text": [
      "\n",
      "This is the new_excl values: 0\n",
      "\n",
      " This is the incl values: 5\n",
      "\n",
      " This is the excl values: 0\n",
      "\n",
      "This is the new_excl values: 5\n",
      "\n",
      " This is the incl values: 5\n",
      "\n",
      " This is the excl values: 5\n",
      "\n",
      "This is the new_excl values: 5\n",
      "\n",
      " This is the incl values: 15\n",
      "\n",
      " This is the excl values: 5\n",
      "\n",
      "This is the new_excl values: 15\n",
      "\n",
      " This is the incl values: 105\n",
      "\n",
      " This is the excl values: 15\n",
      "\n",
      "This is the new_excl values: 105\n",
      "\n",
      " This is the incl values: 25\n",
      "\n",
      " This is the excl values: 105\n",
      "\n",
      "This is the new_excl values: 105\n",
      "\n",
      " This is the incl values: 110\n",
      "\n",
      " This is the excl values: 105\n",
      "110\n"
     ]
    }
   ],
   "source": [
    "# Function to return max sum such that  \n",
    "# no two elements are adjacent \n",
    "def find_max_sum(arr): \n",
    "    incl = 0\n",
    "    excl = 0\n",
    "     \n",
    "    for i in arr: \n",
    "          \n",
    "        # Current max excluding i (No ternary in  \n",
    "        # Python) \n",
    "        new_excl = excl if excl>incl else incl \n",
    "        \n",
    "        print(\"\\nThis is the new_excl values:\", new_excl) \n",
    "        # Current max including i \n",
    "        incl = excl + i \n",
    "        \n",
    "        print(\"\\n This is the incl values:\", incl)\n",
    "        excl = new_excl \n",
    "        print(\"\\n This is the excl values:\", excl)\n",
    "\n",
    "\n",
    "    # return max of incl and excl \n",
    "    return (excl if excl>incl else incl) \n",
    "\n",
    "arr = [5, 5, 10, 100, 10, 5] \n",
    "print (find_max_sum(arr) )\n",
    "  \n"
   ]
  },
  {
   "cell_type": "code",
   "execution_count": null,
   "metadata": {},
   "outputs": [],
   "source": [
    "\n",
    "\n"
   ]
  },
  {
   "cell_type": "code",
   "execution_count": null,
   "metadata": {},
   "outputs": [],
   "source": []
  },
  {
   "cell_type": "code",
   "execution_count": 12,
   "metadata": {},
   "outputs": [
    {
     "ename": "ModuleNotFoundError",
     "evalue": "No module named 'stocker'",
     "output_type": "error",
     "traceback": [
      "\u001b[0;31m---------------------------------------------------------------------------\u001b[0m",
      "\u001b[0;31mModuleNotFoundError\u001b[0m                       Traceback (most recent call last)",
      "\u001b[0;32m<ipython-input-12-fb6f3a05f6ca>\u001b[0m in \u001b[0;36m<module>\u001b[0;34m\u001b[0m\n\u001b[0;32m----> 1\u001b[0;31m \u001b[0;32mimport\u001b[0m \u001b[0mstocker\u001b[0m\u001b[0;34m\u001b[0m\u001b[0;34m\u001b[0m\u001b[0m\n\u001b[0m\u001b[1;32m      2\u001b[0m \u001b[0;32mfrom\u001b[0m \u001b[0mstocker\u001b[0m \u001b[0;32mimport\u001b[0m \u001b[0mStocker\u001b[0m\u001b[0;34m\u001b[0m\u001b[0;34m\u001b[0m\u001b[0m\n",
      "\u001b[0;31mModuleNotFoundError\u001b[0m: No module named 'stocker'"
     ]
    }
   ],
   "source": [
    "import stocker\n",
    "from stocker import Stocker"
   ]
  },
  {
   "cell_type": "code",
   "execution_count": null,
   "metadata": {},
   "outputs": [],
   "source": []
  }
 ],
 "metadata": {
  "kernelspec": {
   "display_name": "Python 3",
   "language": "python",
   "name": "python3"
  },
  "language_info": {
   "codemirror_mode": {
    "name": "ipython",
    "version": 3
   },
   "file_extension": ".py",
   "mimetype": "text/x-python",
   "name": "python",
   "nbconvert_exporter": "python",
   "pygments_lexer": "ipython3",
   "version": "3.7.4"
  }
 },
 "nbformat": 4,
 "nbformat_minor": 2
}
