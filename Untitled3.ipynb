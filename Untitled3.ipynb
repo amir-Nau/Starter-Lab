{
 "cells": [
  {
   "cell_type": "code",
   "execution_count": 118,
   "metadata": {},
   "outputs": [
    {
     "data": {
      "text/plain": [
       "0"
      ]
     },
     "execution_count": 118,
     "metadata": {},
     "output_type": "execute_result"
    }
   ],
   "source": [
    "def num_encodings(s):\n",
    "    if s.startswith('0'):\n",
    "        return 0\n",
    "    elif len(s) <= 1: # This covers empty string\n",
    "        return 1\n",
    "\n",
    "    total = 0\n",
    "    if int(s[:2]) <= 26:\n",
    "        total += num_encodings(s[2:])\n",
    "    total += num_encodings(s[1:])\n",
    "    return total\n",
    "num_encodings('31431546036')\n",
    "\n",
    "\n",
    "\n",
    "\n",
    "# sum1 = 0\n",
    "\n",
    "# s = '12345'\n",
    "\n",
    "# sum1+=int(s[2:])\n",
    "\n",
    "# print(sum1)\n"
   ]
  },
  {
   "cell_type": "code",
   "execution_count": null,
   "metadata": {},
   "outputs": [],
   "source": []
  },
  {
   "cell_type": "code",
   "execution_count": null,
   "metadata": {},
   "outputs": [],
   "source": []
  }
 ],
 "metadata": {
  "kernelspec": {
   "display_name": "Python 3",
   "language": "python",
   "name": "python3"
  },
  "language_info": {
   "codemirror_mode": {
    "name": "ipython",
    "version": 3
   },
   "file_extension": ".py",
   "mimetype": "text/x-python",
   "name": "python",
   "nbconvert_exporter": "python",
   "pygments_lexer": "ipython3",
   "version": "3.7.4"
  }
 },
 "nbformat": 4,
 "nbformat_minor": 2
}
